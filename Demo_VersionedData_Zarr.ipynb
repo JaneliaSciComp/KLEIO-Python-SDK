{
 "cells": [
  {
   "cell_type": "markdown",
   "id": "e705df5e",
   "metadata": {},
   "source": [
    "# Demo : VersionedData Zarr storage"
   ]
  },
  {
   "cell_type": "code",
   "execution_count": 6,
   "id": "d5516404",
   "metadata": {},
   "outputs": [],
   "source": [
    "import sys\n",
    "sys.path.append('../')\n",
    "import numpy as np\n",
    "import zarr"
   ]
  },
  {
   "cell_type": "markdown",
   "id": "6efb2260",
   "metadata": {},
   "source": [
    "### Import our library\n",
    "VersionedData is a Zarr Storage class"
   ]
  },
  {
   "cell_type": "code",
   "execution_count": 7,
   "id": "38e37108",
   "metadata": {},
   "outputs": [],
   "source": [
    "from versionedzarrlib import VersionedData"
   ]
  },
  {
   "cell_type": "code",
   "execution_count": 8,
   "id": "923b5171",
   "metadata": {},
   "outputs": [],
   "source": [
    "path = \"/Users/Marwan/Desktop/activelearning/data/versioned_data\"\n",
    "dims = (600, 600, 600)\n",
    "chunk_size = (128, 128, 128)"
   ]
  },
  {
   "cell_type": "markdown",
   "id": "2e6b65ea",
   "metadata": {},
   "source": [
    "#### Create new data"
   ]
  },
  {
   "cell_type": "code",
   "execution_count": 9,
   "id": "ea9e9240",
   "metadata": {},
   "outputs": [
    {
     "name": "stdout",
     "output_type": "stream",
     "text": [
      "Grid dimensions: [5, 5, 5]\n",
      "Start file creation ..\n",
      "File already exists ! \n",
      "File will be deleted !\n",
      "{'zarr_format': 2, 'shape': (600, 600, 600), 'chunks': (128, 128, 128), 'dtype': dtype('int8'), 'compressor': {'blocksize': 0, 'clevel': 5, 'cname': 'lz4', 'id': 'blosc', 'shuffle': 1}, 'fill_value': 0, 'order': 'C', 'filters': None, 'total_chunks': 1}\n",
      "Dataset created!\n"
     ]
    }
   ],
   "source": [
    "data = VersionedData(path=path, shape=dims, raw_chunk_size=chunk_size)\n",
    "data.create(overwrite=True)"
   ]
  },
  {
   "cell_type": "markdown",
   "id": "dcd1e5a2",
   "metadata": {},
   "source": [
    "#### Open in Zarrr"
   ]
  },
  {
   "cell_type": "code",
   "execution_count": 10,
   "id": "0211f55d",
   "metadata": {},
   "outputs": [
    {
     "data": {
      "text/html": [
       "<table class=\"zarr-info\"><tbody><tr><th style=\"text-align: left\">Type</th><td style=\"text-align: left\">zarr.core.Array</td></tr><tr><th style=\"text-align: left\">Data type</th><td style=\"text-align: left\">int8</td></tr><tr><th style=\"text-align: left\">Shape</th><td style=\"text-align: left\">(600, 600, 600)</td></tr><tr><th style=\"text-align: left\">Chunk shape</th><td style=\"text-align: left\">(128, 128, 128)</td></tr><tr><th style=\"text-align: left\">Order</th><td style=\"text-align: left\">C</td></tr><tr><th style=\"text-align: left\">Read-only</th><td style=\"text-align: left\">False</td></tr><tr><th style=\"text-align: left\">Compressor</th><td style=\"text-align: left\">Blosc(cname='lz4', clevel=5, shuffle=SHUFFLE, blocksize=0)</td></tr><tr><th style=\"text-align: left\">Store type</th><td style=\"text-align: left\">versionedzarrlib.VersionedZarrData.VersionedData</td></tr><tr><th style=\"text-align: left\">No. bytes</th><td style=\"text-align: left\">216000000 (206.0M)</td></tr><tr><th style=\"text-align: left\">No. bytes stored</th><td style=\"text-align: left\">388</td></tr><tr><th style=\"text-align: left\">Storage ratio</th><td style=\"text-align: left\">556701.0</td></tr><tr><th style=\"text-align: left\">Chunks initialized</th><td style=\"text-align: left\">0/125</td></tr></tbody></table>"
      ],
      "text/plain": [
       "Type               : zarr.core.Array\n",
       "Data type          : int8\n",
       "Shape              : (600, 600, 600)\n",
       "Chunk shape        : (128, 128, 128)\n",
       "Order              : C\n",
       "Read-only          : False\n",
       "Compressor         : Blosc(cname='lz4', clevel=5, shuffle=SHUFFLE, blocksize=0)\n",
       "Store type         : versionedzarrlib.VersionedZarrData.VersionedData\n",
       "No. bytes          : 216000000 (206.0M)\n",
       "No. bytes stored   : 388\n",
       "Storage ratio      : 556701.0\n",
       "Chunks initialized : 0/125"
      ]
     },
     "execution_count": 10,
     "metadata": {},
     "output_type": "execute_result"
    }
   ],
   "source": [
    "z = zarr.open(store=data)\n",
    "z.info"
   ]
  },
  {
   "cell_type": "code",
   "execution_count": null,
   "id": "725f6f57",
   "metadata": {},
   "outputs": [],
   "source": [
    "# data.checkou"
   ]
  },
  {
   "cell_type": "code",
   "execution_count": 6,
   "id": "0953f5b8",
   "metadata": {},
   "outputs": [
    {
     "name": "stdout",
     "output_type": "stream",
     "text": [
      "{'chunks': [128, 128, 128], 'compressor': {'blocksize': 0, 'clevel': 5, 'cname': 'lz4', 'id': 'blosc', 'shuffle': 1}, 'dtype': '|i1', 'fill_value': 0, 'filters': None, 'order': 'C', 'shape': [600, 600, 600], 'total_chunks': 1, 'zarr_format': 2}\n",
      "total: 1\n",
      "New file /Users/Marwan/Desktop/activelearning/data/versioned_data/raw/1\n",
      "Writing (3, 3, 3)\n",
      "{'chunks': [128, 128, 128], 'compressor': {'blocksize': 0, 'clevel': 5, 'cname': 'lz4', 'id': 'blosc', 'shuffle': 1}, 'dtype': '|i1', 'fill_value': 0, 'filters': None, 'order': 'C', 'shape': [600, 600, 600], 'total_chunks': 2, 'zarr_format': 2}\n",
      "total: 2\n",
      "New file /Users/Marwan/Desktop/activelearning/data/versioned_data/raw/2\n",
      "Writing (0, 0, 0)\n"
     ]
    }
   ],
   "source": [
    "z[500, 500, 500] = 5\n",
    "z[10,10,10] = 10"
   ]
  },
  {
   "cell_type": "code",
   "execution_count": 7,
   "id": "a2b9841e",
   "metadata": {},
   "outputs": [
    {
     "name": "stdout",
     "output_type": "stream",
     "text": [
      "File to open:/Users/Marwan/Desktop/activelearning/data/versioned_data/raw/2\n",
      "[ 0  0  0  0  0 10]\n"
     ]
    }
   ],
   "source": [
    "print(z[5:11,10,10])"
   ]
  },
  {
   "cell_type": "code",
   "execution_count": 8,
   "id": "6c8e6c9c",
   "metadata": {},
   "outputs": [
    {
     "name": "stdout",
     "output_type": "stream",
     "text": [
      "0\n"
     ]
    }
   ],
   "source": [
    "# No chunk file to open\n",
    "print(z[300,300,300])"
   ]
  },
  {
   "cell_type": "code",
   "execution_count": null,
   "id": "e1f0a8fd",
   "metadata": {},
   "outputs": [],
   "source": []
  }
 ],
 "metadata": {
  "kernelspec": {
   "display_name": "Python 3 (ipykernel)",
   "language": "python",
   "name": "python3"
  },
  "language_info": {
   "codemirror_mode": {
    "name": "ipython",
    "version": 3
   },
   "file_extension": ".py",
   "mimetype": "text/x-python",
   "name": "python",
   "nbconvert_exporter": "python",
   "pygments_lexer": "ipython3",
   "version": "3.8.12"
  }
 },
 "nbformat": 4,
 "nbformat_minor": 5
}
