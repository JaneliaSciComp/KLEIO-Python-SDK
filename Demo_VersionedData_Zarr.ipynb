{
 "cells": [
  {
   "cell_type": "markdown",
   "id": "e705df5e",
   "metadata": {},
   "source": [
    "# Demo : VersionedData Zarr storage"
   ]
  },
  {
   "cell_type": "code",
   "execution_count": 1,
   "id": "d5516404",
   "metadata": {},
   "outputs": [],
   "source": [
    "import sys\n",
    "import numpy as np\n",
    "import zarr"
   ]
  },
  {
   "cell_type": "markdown",
   "id": "6efb2260",
   "metadata": {},
   "source": [
    "### Import our library\n",
    "VersionedData is a Zarr Storage class"
   ]
  },
  {
   "cell_type": "code",
   "execution_count": 2,
   "id": "38e37108",
   "metadata": {},
   "outputs": [],
   "source": [
    "from versionedzarrlib import VersionedDataStore"
   ]
  },
  {
   "cell_type": "code",
   "execution_count": 3,
   "id": "923b5171",
   "metadata": {},
   "outputs": [],
   "source": [
    "path = \"/Users/zouinkhim/Desktop/versioned_data\"\n",
    "dims = (600, 600, 600)\n",
    "chunk_size = (128, 128, 128)"
   ]
  },
  {
   "cell_type": "markdown",
   "id": "2e6b65ea",
   "metadata": {},
   "source": [
    "#### Create new data"
   ]
  },
  {
   "cell_type": "code",
   "execution_count": 4,
   "id": "ea9e9240",
   "metadata": {},
   "outputs": [
    {
     "name": "stdout",
     "output_type": "stream",
     "text": [
      "Grid dimensions: [5, 5, 5]\n",
      "Start file creation ..\n",
      "File already exists ! \n",
      "File will be deleted !\n",
      "{'zarr_format': 2, 'shape': (600, 600, 600), 'chunks': (128, 128, 128), 'dtype': dtype('int8'), 'compressor': {'blocksize': 0, 'clevel': 5, 'cname': 'lz4', 'id': 'blosc', 'shuffle': 1}, 'fill_value': 0, 'order': 'C', 'filters': None, 'total_chunks': 1}\n",
      "Dataset created!\n"
     ]
    }
   ],
   "source": [
    "data = VersionedDataStore(path=path, shape=dims, raw_chunk_size=chunk_size)\n",
    "data.create(overwrite=True)"
   ]
  },
  {
   "cell_type": "markdown",
   "id": "dcd1e5a2",
   "metadata": {},
   "source": [
    "#### Open in Zarrr"
   ]
  },
  {
   "cell_type": "code",
   "execution_count": 5,
   "id": "0211f55d",
   "metadata": {},
   "outputs": [
    {
     "data": {
      "text/html": [
       "<table class=\"zarr-info\"><tbody><tr><th style=\"text-align: left\">Type</th><td style=\"text-align: left\">zarr.core.Array</td></tr><tr><th style=\"text-align: left\">Data type</th><td style=\"text-align: left\">int8</td></tr><tr><th style=\"text-align: left\">Shape</th><td style=\"text-align: left\">(600, 600, 600)</td></tr><tr><th style=\"text-align: left\">Chunk shape</th><td style=\"text-align: left\">(128, 128, 128)</td></tr><tr><th style=\"text-align: left\">Order</th><td style=\"text-align: left\">C</td></tr><tr><th style=\"text-align: left\">Read-only</th><td style=\"text-align: left\">False</td></tr><tr><th style=\"text-align: left\">Compressor</th><td style=\"text-align: left\">Blosc(cname='lz4', clevel=5, shuffle=SHUFFLE, blocksize=0)</td></tr><tr><th style=\"text-align: left\">Store type</th><td style=\"text-align: left\">versionedzarrlib.data.VersionedDataStore</td></tr><tr><th style=\"text-align: left\">No. bytes</th><td style=\"text-align: left\">216000000 (206.0M)</td></tr><tr><th style=\"text-align: left\">No. bytes stored</th><td style=\"text-align: left\">388</td></tr><tr><th style=\"text-align: left\">Storage ratio</th><td style=\"text-align: left\">556701.0</td></tr><tr><th style=\"text-align: left\">Chunks initialized</th><td style=\"text-align: left\">0/125</td></tr></tbody></table>"
      ],
      "text/plain": [
       "Type               : zarr.core.Array\n",
       "Data type          : int8\n",
       "Shape              : (600, 600, 600)\n",
       "Chunk shape        : (128, 128, 128)\n",
       "Order              : C\n",
       "Read-only          : False\n",
       "Compressor         : Blosc(cname='lz4', clevel=5, shuffle=SHUFFLE, blocksize=0)\n",
       "Store type         : versionedzarrlib.data.VersionedDataStore\n",
       "No. bytes          : 216000000 (206.0M)\n",
       "No. bytes stored   : 388\n",
       "Storage ratio      : 556701.0\n",
       "Chunks initialized : 0/125"
      ]
     },
     "execution_count": 5,
     "metadata": {},
     "output_type": "execute_result"
    }
   ],
   "source": [
    "z = zarr.open(store=data)\n",
    "z.info"
   ]
  },
  {
   "cell_type": "code",
   "execution_count": 6,
   "id": "725f6f57",
   "metadata": {},
   "outputs": [],
   "source": [
    "# data.checkou"
   ]
  },
  {
   "cell_type": "code",
   "execution_count": 7,
   "id": "0953f5b8",
   "metadata": {},
   "outputs": [
    {
     "name": "stdout",
     "output_type": "stream",
     "text": [
      "New file /Users/zouinkhim/Desktop/versioned_data/raw/1\n",
      "Writing (3, 3, 3)\n",
      "New file /Users/zouinkhim/Desktop/versioned_data/raw/2\n",
      "Writing (0, 0, 0)\n"
     ]
    }
   ],
   "source": [
    "z[500, 500, 500] = 5\n",
    "z[10,10,10] = 10"
   ]
  },
  {
   "cell_type": "code",
   "execution_count": 10,
   "id": "ef4ef9bc",
   "metadata": {},
   "outputs": [
    {
     "name": "stdout",
     "output_type": "stream",
     "text": [
      "File to open:/Users/zouinkhim/Desktop/versioned_data/raw/2\n",
      "New file /Users/zouinkhim/Desktop/versioned_data/raw/3\n",
      "Writing (0, 0, 0)\n"
     ]
    }
   ],
   "source": [
    "z[7,10,10] = 9"
   ]
  },
  {
   "cell_type": "code",
   "execution_count": 11,
   "id": "a2b9841e",
   "metadata": {},
   "outputs": [
    {
     "name": "stdout",
     "output_type": "stream",
     "text": [
      "File to open:/Users/zouinkhim/Desktop/versioned_data/raw/3\n",
      "[ 0  0  9  0  0 10]\n"
     ]
    }
   ],
   "source": [
    "print(z[5:11,10,10])"
   ]
  },
  {
   "cell_type": "code",
   "execution_count": 9,
   "id": "6c8e6c9c",
   "metadata": {},
   "outputs": [
    {
     "name": "stdout",
     "output_type": "stream",
     "text": [
      "0\n"
     ]
    }
   ],
   "source": [
    "# No chunk file to open\n",
    "print(z[300,300,300])"
   ]
  },
  {
   "cell_type": "code",
   "execution_count": 13,
   "id": "e1f0a8fd",
   "metadata": {},
   "outputs": [
    {
     "name": "stdout",
     "output_type": "stream",
     "text": [
      "Committed by zouinkhim on Mon, 11 Apr 2022 13:40 with sha 5611b2b6e9743756216598f0aa6f59fe37cabb4f\n",
      "Committed by zouinkhim on Mon, 11 Apr 2022 13:39 with sha 4fe895f2b800d3280b0b7f4df8e0b814c5ebe7dc\n",
      "Committed by zouinkhim on Mon, 11 Apr 2022 13:39 with sha fe92703b07e12a7923e2c13aadc569aba191a48e\n"
     ]
    }
   ],
   "source": [
    "data.vc.show_history()"
   ]
  },
  {
   "cell_type": "code",
   "execution_count": null,
   "id": "89ac4861",
   "metadata": {},
   "outputs": [],
   "source": [
    "data.vc.checkout_commit(\"5611b2b6e9743756216598f0aa6f59fe37cabb4f\")"
   ]
  },
  {
   "cell_type": "code",
   "execution_count": null,
   "id": "0c2ca2fb",
   "metadata": {},
   "outputs": [],
   "source": []
  }
 ],
 "metadata": {
  "kernelspec": {
   "display_name": "Python 3 (ipykernel)",
   "language": "python",
   "name": "python3"
  },
  "language_info": {
   "codemirror_mode": {
    "name": "ipython",
    "version": 3
   },
   "file_extension": ".py",
   "mimetype": "text/x-python",
   "name": "python",
   "nbconvert_exporter": "python",
   "pygments_lexer": "ipython3",
   "version": "3.8.11"
  }
 },
 "nbformat": 4,
 "nbformat_minor": 5
}
