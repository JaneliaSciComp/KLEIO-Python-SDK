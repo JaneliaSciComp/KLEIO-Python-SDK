{
 "cells": [
  {
   "cell_type": "markdown",
   "id": "c372c47f",
   "metadata": {},
   "source": [
    "# Versioned Multi dimension storage\n",
    "\n",
    "### Features:\n",
    "- Multiple branches\n",
    "- Multiple collaborators\n",
    "- Can jump anytime to any historical point\n",
    "- Data is not replicated and no extra reading writing cost.\n",
    "\n",
    "### Data structure:\n",
    "\n",
    "![Data structure](img/datastucture.png)\n",
    "![Data structure](img/datastucture2.png)\n",
    "\n",
    "Every change is a now commit:\n",
    "\n",
    "![Commits](img/commits.png)\n",
    "\n",
    "### How to:\n",
    "#### Create data:\n",
    "`$ data = VersionedZarrData(root_path=PATH, dimension=DIMS, chunk_size=CHUNK_SIZE)`\n",
    "\n",
    "`$ data.create(overwrite=True)`\n",
    "#### Open data:\n",
    "`data = open_versioned_data(PATH)`\n",
    "\n",
    "#### Commit now modification:\n",
    "`$ data.write_block(data=dummy_data, grid_position=grid_position)`\n",
    "\n",
    "#### Checkout branch:\n",
    "`$ data.git.checkout_branch(branch_name=BRANCH_NAME, create=True)`\n",
    "\n",
    "#### Checkout history commit:\n",
    "`$ data.git.checkout_branch(COMMIT_ID)`\n",
    "\n",
    "Currently, benchmarking different scenarios.\n",
    "\n"
   ]
  },
  {
   "cell_type": "markdown",
   "id": "9f9e6468",
   "metadata": {},
   "source": [
    "![](img/benchmarking/best_chunk_all.png)\n",
    "![](img/benchmarking/best_chunk_commit_1.png)\n",
    "![](img/benchmarking/git_compression.png)"
   ]
  },
  {
   "cell_type": "markdown",
   "id": "e705df5e",
   "metadata": {},
   "source": [
    "# Demo : VersionedData Zarr storage"
   ]
  },
  {
   "cell_type": "code",
   "execution_count": 1,
   "id": "d5516404",
   "metadata": {},
   "outputs": [],
   "source": [
    "import sys\n",
    "import numpy as np\n",
    "import zarr"
   ]
  },
  {
   "cell_type": "code",
   "execution_count": null,
   "id": "de933657",
   "metadata": {},
   "outputs": [],
   "source": []
  },
  {
   "cell_type": "markdown",
   "id": "6efb2260",
   "metadata": {},
   "source": [
    "### Import our library\n",
    "VersionedData is a Zarr Storage class"
   ]
  },
  {
   "cell_type": "code",
   "execution_count": 2,
   "id": "38e37108",
   "metadata": {},
   "outputs": [],
   "source": [
    "from versionedzarrlib import VersionedDataStore"
   ]
  },
  {
   "cell_type": "code",
   "execution_count": 3,
   "id": "923b5171",
   "metadata": {},
   "outputs": [],
   "source": [
    "path = \"/Users/zouinkhim/Desktop/versioned_data\"\n",
    "dims = (600, 600, 600)\n",
    "chunk_size = (128, 128, 128)"
   ]
  },
  {
   "cell_type": "markdown",
   "id": "2e6b65ea",
   "metadata": {},
   "source": [
    "#### Create new data"
   ]
  },
  {
   "cell_type": "code",
   "execution_count": 4,
   "id": "ea9e9240",
   "metadata": {},
   "outputs": [
    {
     "name": "stdout",
     "output_type": "stream",
     "text": [
      "Grid dimensions: [5, 5, 5]\n",
      "Start file creation ..\n",
      "File already exists ! \n",
      "File will be deleted !\n",
      "{'zarr_format': 2, 'shape': (600, 600, 600), 'chunks': (128, 128, 128), 'dtype': dtype('int8'), 'compressor': {'blocksize': 0, 'clevel': 5, 'cname': 'lz4', 'id': 'blosc', 'shuffle': 1}, 'fill_value': 0, 'order': 'C', 'filters': None, 'total_chunks': 1}\n",
      "Dataset created!\n"
     ]
    }
   ],
   "source": [
    "data = VersionedDataStore(path=path, shape=dims, raw_chunk_size=chunk_size)\n",
    "data.create(overwrite=True)"
   ]
  },
  {
   "cell_type": "code",
   "execution_count": null,
   "id": "0b57d11e",
   "metadata": {},
   "outputs": [],
   "source": []
  },
  {
   "cell_type": "markdown",
   "id": "dcd1e5a2",
   "metadata": {},
   "source": [
    "#### Open in Zarrr"
   ]
  },
  {
   "cell_type": "code",
   "execution_count": 5,
   "id": "0211f55d",
   "metadata": {},
   "outputs": [
    {
     "name": "stdout",
     "output_type": "stream",
     "text": [
      "{'zarr_format': 2, 'shape': (600, 600, 600), 'chunks': (128, 128, 128), 'dtype': dtype('int8'), 'compressor': {'blocksize': 0, 'clevel': 5, 'cname': 'lz4', 'id': 'blosc', 'shuffle': 1}, 'fill_value': 0, 'order': 'C', 'filters': None, 'total_chunks': 1}\n",
      "Grid dimensions: [5, 5, 5]\n"
     ]
    }
   ],
   "source": [
    "data2 = VersionedDataStore.open(path=path)"
   ]
  },
  {
   "cell_type": "code",
   "execution_count": 6,
   "id": "d47bf290",
   "metadata": {},
   "outputs": [
    {
     "data": {
      "text/html": [
       "<table class=\"zarr-info\"><tbody><tr><th style=\"text-align: left\">Type</th><td style=\"text-align: left\">zarr.core.Array</td></tr><tr><th style=\"text-align: left\">Data type</th><td style=\"text-align: left\">int8</td></tr><tr><th style=\"text-align: left\">Shape</th><td style=\"text-align: left\">(600, 600, 600)</td></tr><tr><th style=\"text-align: left\">Chunk shape</th><td style=\"text-align: left\">(128, 128, 128)</td></tr><tr><th style=\"text-align: left\">Order</th><td style=\"text-align: left\">C</td></tr><tr><th style=\"text-align: left\">Read-only</th><td style=\"text-align: left\">False</td></tr><tr><th style=\"text-align: left\">Compressor</th><td style=\"text-align: left\">Blosc(cname='lz4', clevel=5, shuffle=SHUFFLE, blocksize=0)</td></tr><tr><th style=\"text-align: left\">Store type</th><td style=\"text-align: left\">versionedzarrlib.data.VersionedDataStore</td></tr><tr><th style=\"text-align: left\">No. bytes</th><td style=\"text-align: left\">216000000 (206.0M)</td></tr><tr><th style=\"text-align: left\">No. bytes stored</th><td style=\"text-align: left\">388</td></tr><tr><th style=\"text-align: left\">Storage ratio</th><td style=\"text-align: left\">556701.0</td></tr><tr><th style=\"text-align: left\">Chunks initialized</th><td style=\"text-align: left\">0/125</td></tr></tbody></table>"
      ],
      "text/plain": [
       "Type               : zarr.core.Array\n",
       "Data type          : int8\n",
       "Shape              : (600, 600, 600)\n",
       "Chunk shape        : (128, 128, 128)\n",
       "Order              : C\n",
       "Read-only          : False\n",
       "Compressor         : Blosc(cname='lz4', clevel=5, shuffle=SHUFFLE, blocksize=0)\n",
       "Store type         : versionedzarrlib.data.VersionedDataStore\n",
       "No. bytes          : 216000000 (206.0M)\n",
       "No. bytes stored   : 388\n",
       "Storage ratio      : 556701.0\n",
       "Chunks initialized : 0/125"
      ]
     },
     "execution_count": 6,
     "metadata": {},
     "output_type": "execute_result"
    }
   ],
   "source": [
    "z = zarr.open(store=data2)\n",
    "z.info"
   ]
  },
  {
   "cell_type": "code",
   "execution_count": null,
   "id": "725f6f57",
   "metadata": {},
   "outputs": [],
   "source": []
  },
  {
   "cell_type": "code",
   "execution_count": 7,
   "id": "0953f5b8",
   "metadata": {},
   "outputs": [
    {
     "name": "stdout",
     "output_type": "stream",
     "text": [
      "New file /Users/zouinkhim/Desktop/versioned_data/raw/1\n",
      "Writing (3, 3, 3)\n",
      "New file /Users/zouinkhim/Desktop/versioned_data/raw/2\n",
      "Writing (0, 0, 0)\n"
     ]
    }
   ],
   "source": [
    "z[500, 500, 500] = 5\n",
    "z[10,10,10] = 10"
   ]
  },
  {
   "cell_type": "code",
   "execution_count": 8,
   "id": "4b1cd551",
   "metadata": {},
   "outputs": [
    {
     "name": "stdout",
     "output_type": "stream",
     "text": [
      "File to open:/Users/zouinkhim/Desktop/versioned_data/raw/2\n",
      "New file /Users/zouinkhim/Desktop/versioned_data/raw/3\n",
      "Writing (0, 0, 0)\n"
     ]
    }
   ],
   "source": [
    "z[7,10,10] = 9"
   ]
  },
  {
   "cell_type": "code",
   "execution_count": 9,
   "id": "a2b9841e",
   "metadata": {},
   "outputs": [
    {
     "name": "stdout",
     "output_type": "stream",
     "text": [
      "File to open:/Users/zouinkhim/Desktop/versioned_data/raw/3\n",
      "[ 0  0  9  0  0 10]\n"
     ]
    }
   ],
   "source": [
    "print(z[5:11,10,10])"
   ]
  },
  {
   "cell_type": "code",
   "execution_count": 10,
   "id": "6c8e6c9c",
   "metadata": {},
   "outputs": [
    {
     "name": "stdout",
     "output_type": "stream",
     "text": [
      "0\n"
     ]
    }
   ],
   "source": [
    "# No chunk file to open\n",
    "print(z[300,300,300])"
   ]
  },
  {
   "cell_type": "code",
   "execution_count": 11,
   "id": "e1f0a8fd",
   "metadata": {},
   "outputs": [
    {
     "name": "stdout",
     "output_type": "stream",
     "text": [
      "Committed by mzouink on Mon, 11 Apr 2022 14:39 with sha 61d5db31a5f4c9d27ba8958e1ce0dc6912a342fa\n",
      "Committed by mzouink on Mon, 11 Apr 2022 14:39 with sha 1ee71b8e12b98e6574fa7afb7af939d0b57496ad\n",
      "Committed by mzouink on Mon, 11 Apr 2022 14:39 with sha e88259ae8ff7466d78137b12f406387243d6cd20\n"
     ]
    }
   ],
   "source": [
    "data.vc.show_history()"
   ]
  },
  {
   "cell_type": "code",
   "execution_count": 22,
   "id": "c25e949d",
   "metadata": {},
   "outputs": [],
   "source": [
    "data.vc.checkout_commit(\"1ee71b8e12b98e6574fa7afb7af939d0b57496ad\")"
   ]
  },
  {
   "cell_type": "code",
   "execution_count": 23,
   "id": "98dcf532",
   "metadata": {},
   "outputs": [
    {
     "name": "stdout",
     "output_type": "stream",
     "text": [
      "File to open:/Users/zouinkhim/Desktop/versioned_data/raw/2\n",
      "[ 0  0  0  0  0 10]\n"
     ]
    }
   ],
   "source": [
    "print(z[5:11,10,10])"
   ]
  },
  {
   "cell_type": "code",
   "execution_count": 14,
   "id": "e751cdaf",
   "metadata": {},
   "outputs": [
    {
     "name": "stdout",
     "output_type": "stream",
     "text": [
      "Create new branch: dev\n"
     ]
    }
   ],
   "source": [
    "data.vc.checkout_branch(\"dev\",create=True)"
   ]
  },
  {
   "cell_type": "markdown",
   "id": "43c62f90",
   "metadata": {},
   "source": [
    "### Direct manipulation\n",
    "Without the use of Zarr open"
   ]
  },
  {
   "cell_type": "code",
   "execution_count": 15,
   "id": "3bb422b2",
   "metadata": {},
   "outputs": [],
   "source": [
    "dummy_data = np.ones(data.raw_chunk_size, dtype='i8')"
   ]
  },
  {
   "cell_type": "code",
   "execution_count": 16,
   "id": "f8d6d39a",
   "metadata": {},
   "outputs": [],
   "source": [
    "data2.write_block(dummy_data,(2,2,2))"
   ]
  },
  {
   "cell_type": "code",
   "execution_count": 17,
   "id": "19e40b47",
   "metadata": {},
   "outputs": [],
   "source": [
    "data2.vc.add_all()\n",
    "data2.vc.commit(\"Add block at {}\".format( (2,2,2)))"
   ]
  },
  {
   "cell_type": "code",
   "execution_count": 18,
   "id": "b90b19a6",
   "metadata": {},
   "outputs": [
    {
     "name": "stdout",
     "output_type": "stream",
     "text": [
      "raw file for (1, 2, 2) is 0\n",
      "No data valid for position: (1, 2, 2)\n"
     ]
    }
   ],
   "source": [
    "tmp = data2.get_chunk((1,2,2))"
   ]
  },
  {
   "cell_type": "code",
   "execution_count": 19,
   "id": "b891204f",
   "metadata": {},
   "outputs": [
    {
     "name": "stdout",
     "output_type": "stream",
     "text": [
      "raw file for (2, 2, 2) is 4\n",
      "/Users/zouinkhim/Desktop/versioned_data/raw/4\n"
     ]
    }
   ],
   "source": [
    "tmp = data2.get_chunk((2,2,2))"
   ]
  },
  {
   "cell_type": "code",
   "execution_count": null,
   "id": "24b1b1f2",
   "metadata": {},
   "outputs": [],
   "source": []
  }
 ],
 "metadata": {
  "kernelspec": {
   "display_name": "Python 3 (ipykernel)",
   "language": "python",
   "name": "python3"
  },
  "language_info": {
   "codemirror_mode": {
    "name": "ipython",
    "version": 3
   },
   "file_extension": ".py",
   "mimetype": "text/x-python",
   "name": "python",
   "nbconvert_exporter": "python",
   "pygments_lexer": "ipython3",
   "version": "3.8.11"
  }
 },
 "nbformat": 4,
 "nbformat_minor": 5
}
